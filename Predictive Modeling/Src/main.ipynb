{
 "cells": [
  {
   "cell_type": "code",
   "id": "initial_id",
   "metadata": {
    "collapsed": true,
    "ExecuteTime": {
     "end_time": "2024-05-05T07:54:32.111494Z",
     "start_time": "2024-05-05T07:54:28.621540Z"
    }
   },
   "source": [
    "import pandas as pd\n",
    "import numpy as np\n",
    "import matplotlib.pyplot as plt\n",
    "import seaborn as sns\n",
    "from sklearn.model_selection import train_test_split\n",
    "from sklearn.linear_model import LogisticRegression\n",
    "from sklearn.tree import DecisionTreeClassifier\n",
    "from sklearn.ensemble import RandomForestClassifier\n",
    "from sklearn.metrics import accuracy_score, precision_score, recall_score, f1_score, confusion_matrix"
   ],
   "outputs": [],
   "execution_count": 1
  },
  {
   "metadata": {
    "ExecuteTime": {
     "end_time": "2024-05-06T09:19:42.520124Z",
     "start_time": "2024-05-06T09:19:42.435838Z"
    }
   },
   "cell_type": "code",
   "source": [
    "import pandas as pd\n",
    "train_data = pd.read_csv(\"C:/Users/jerme/Downloads/Problem Statement (6) (1)/train.csv\")\n",
    "test_data = pd.read_csv(\"C:/Users/jerme/Downloads/Problem Statement (6) (1)/test.csv\")"
   ],
   "id": "187e4056d0e8c9e6",
   "outputs": [],
   "execution_count": 32
  },
  {
   "metadata": {
    "ExecuteTime": {
     "end_time": "2024-05-06T08:26:01.224391Z",
     "start_time": "2024-05-06T08:26:01.135296Z"
    }
   },
   "cell_type": "code",
   "source": [
    "print(\"Train Dataset:\")\n",
    "print(\"Shape:\", train_data.shape)\n",
    "print(train_data.head())\n",
    "print(train_data.info())\n",
    "print(train_data.describe())\n",
    "\n",
    "print(\"\\nTest Dataset:\")\n",
    "print(\"Shape:\", test_data.shape)\n",
    "print(test_data.head())\n",
    "print(test_data.info())\n",
    "print(test_data.describe())"
   ],
   "id": "db419c127277092e",
   "outputs": [
    {
     "name": "stdout",
     "output_type": "stream",
     "text": [
      "Train Dataset:\n",
      "Shape: (31647, 18)\n",
      "      ID  age         job   marital  education default  balance housing loan  \\\n",
      "0  26110   56      admin.   married    unknown      no     1933      no   no   \n",
      "1  40576   31     unknown   married  secondary      no        3      no   no   \n",
      "2  15320   27    services   married  secondary      no      891     yes   no   \n",
      "3  43962   57  management  divorced   tertiary      no     3287      no   no   \n",
      "4  29842   31  technician   married  secondary      no      119     yes   no   \n",
      "\n",
      "     contact  day month  duration  campaign  pdays  previous poutcome  \\\n",
      "0  telephone   19   nov        44         2     -1         0  unknown   \n",
      "1   cellular   20   jul        91         2     -1         0  unknown   \n",
      "2   cellular   18   jul       240         1     -1         0  unknown   \n",
      "3   cellular   22   jun       867         1     84         3  success   \n",
      "4   cellular    4   feb       380         1     -1         0  unknown   \n",
      "\n",
      "  subscribed  \n",
      "0         no  \n",
      "1         no  \n",
      "2         no  \n",
      "3        yes  \n",
      "4         no  \n",
      "<class 'pandas.core.frame.DataFrame'>\n",
      "RangeIndex: 31647 entries, 0 to 31646\n",
      "Data columns (total 18 columns):\n",
      " #   Column      Non-Null Count  Dtype \n",
      "---  ------      --------------  ----- \n",
      " 0   ID          31647 non-null  int64 \n",
      " 1   age         31647 non-null  int64 \n",
      " 2   job         31647 non-null  object\n",
      " 3   marital     31647 non-null  object\n",
      " 4   education   31647 non-null  object\n",
      " 5   default     31647 non-null  object\n",
      " 6   balance     31647 non-null  int64 \n",
      " 7   housing     31647 non-null  object\n",
      " 8   loan        31647 non-null  object\n",
      " 9   contact     31647 non-null  object\n",
      " 10  day         31647 non-null  int64 \n",
      " 11  month       31647 non-null  object\n",
      " 12  duration    31647 non-null  int64 \n",
      " 13  campaign    31647 non-null  int64 \n",
      " 14  pdays       31647 non-null  int64 \n",
      " 15  previous    31647 non-null  int64 \n",
      " 16  poutcome    31647 non-null  object\n",
      " 17  subscribed  31647 non-null  object\n",
      "dtypes: int64(8), object(10)\n",
      "memory usage: 4.3+ MB\n",
      "None\n",
      "                 ID           age        balance           day      duration  \\\n",
      "count  31647.000000  31647.000000   31647.000000  31647.000000  31647.000000   \n",
      "mean   22563.972162     40.957247    1363.890258     15.835466    258.113534   \n",
      "std    13075.936990     10.625134    3028.304293      8.337097    257.118973   \n",
      "min        2.000000     18.000000   -8019.000000      1.000000      0.000000   \n",
      "25%    11218.000000     33.000000      73.000000      8.000000    104.000000   \n",
      "50%    22519.000000     39.000000     450.000000     16.000000    180.000000   \n",
      "75%    33879.500000     48.000000    1431.000000     21.000000    318.500000   \n",
      "max    45211.000000     95.000000  102127.000000     31.000000   4918.000000   \n",
      "\n",
      "           campaign         pdays      previous  \n",
      "count  31647.000000  31647.000000  31647.000000  \n",
      "mean       2.765697     39.576042      0.574272  \n",
      "std        3.113830     99.317592      2.422529  \n",
      "min        1.000000     -1.000000      0.000000  \n",
      "25%        1.000000     -1.000000      0.000000  \n",
      "50%        2.000000     -1.000000      0.000000  \n",
      "75%        3.000000     -1.000000      0.000000  \n",
      "max       63.000000    871.000000    275.000000  \n",
      "\n",
      "Test Dataset:\n",
      "Shape: (13564, 17)\n",
      "      ID  age            job   marital  education default  balance housing  \\\n",
      "0  38441   32       services   married  secondary      no      118     yes   \n",
      "1  40403   78        retired  divorced    primary      no     2787      no   \n",
      "2   3709   31  self-employed    single   tertiary      no      144     yes   \n",
      "3  37422   57       services    single    primary      no     3777     yes   \n",
      "4  12527   45    blue-collar  divorced  secondary      no     -705      no   \n",
      "\n",
      "  loan    contact  day month  duration  campaign  pdays  previous poutcome  \n",
      "0   no   cellular   15   may        20         6     -1         0  unknown  \n",
      "1   no  telephone    1   jul       372         1     -1         0  unknown  \n",
      "2   no    unknown   16   may       676         1     -1         0  unknown  \n",
      "3   no  telephone   13   may        65         2     -1         0  unknown  \n",
      "4  yes    unknown    3   jul       111         1     -1         0  unknown  \n",
      "<class 'pandas.core.frame.DataFrame'>\n",
      "RangeIndex: 13564 entries, 0 to 13563\n",
      "Data columns (total 17 columns):\n",
      " #   Column     Non-Null Count  Dtype \n",
      "---  ------     --------------  ----- \n",
      " 0   ID         13564 non-null  int64 \n",
      " 1   age        13564 non-null  int64 \n",
      " 2   job        13564 non-null  object\n",
      " 3   marital    13564 non-null  object\n",
      " 4   education  13564 non-null  object\n",
      " 5   default    13564 non-null  object\n",
      " 6   balance    13564 non-null  int64 \n",
      " 7   housing    13564 non-null  object\n",
      " 8   loan       13564 non-null  object\n",
      " 9   contact    13564 non-null  object\n",
      " 10  day        13564 non-null  int64 \n",
      " 11  month      13564 non-null  object\n",
      " 12  duration   13564 non-null  int64 \n",
      " 13  campaign   13564 non-null  int64 \n",
      " 14  pdays      13564 non-null  int64 \n",
      " 15  previous   13564 non-null  int64 \n",
      " 16  poutcome   13564 non-null  object\n",
      "dtypes: int64(8), object(9)\n",
      "memory usage: 1.8+ MB\n",
      "None\n",
      "                 ID           age       balance           day      duration  \\\n",
      "count  13564.000000  13564.000000  13564.000000  13564.000000  13564.000000   \n",
      "mean   22704.057726     40.887128   1358.496535     15.738646    258.278679   \n",
      "std    12994.043329     10.604108   3082.940623      8.288174    258.488648   \n",
      "min        1.000000     18.000000  -3313.000000      1.000000      0.000000   \n",
      "25%    11546.000000     33.000000     71.000000      8.000000    102.000000   \n",
      "50%    22782.000000     39.000000    445.000000     16.000000    180.000000   \n",
      "75%    33974.250000     48.000000   1413.250000     21.000000    319.000000   \n",
      "max    45206.000000     95.000000  98417.000000     31.000000   3253.000000   \n",
      "\n",
      "           campaign         pdays      previous  \n",
      "count  13564.000000  13564.000000  13564.000000  \n",
      "mean       2.759510     41.648555      0.594441  \n",
      "std        3.060928    101.985178      1.998193  \n",
      "min        1.000000     -1.000000      0.000000  \n",
      "25%        1.000000     -1.000000      0.000000  \n",
      "50%        2.000000     -1.000000      0.000000  \n",
      "75%        3.000000     -1.000000      0.000000  \n",
      "max       58.000000    850.000000     55.000000  \n"
     ]
    }
   ],
   "execution_count": 3
  },
  {
   "metadata": {
    "ExecuteTime": {
     "end_time": "2024-05-06T08:26:19.774783Z",
     "start_time": "2024-05-06T08:26:19.710929Z"
    }
   },
   "cell_type": "code",
   "source": [
    "print(\"Missing values in train dataset:\")\n",
    "print(train_data.isnull().sum())\n",
    "\n",
    "print(\"\\nMissing values in test dataset:\")\n",
    "print(test_data.isnull().sum())\n",
    "\n",
    "# Handle missing values (e.g., dropping rows)\n",
    "train_data.dropna(inplace=True)\n",
    "test_data.dropna(inplace=True)"
   ],
   "id": "57acdfb549a9a9b5",
   "outputs": [
    {
     "name": "stdout",
     "output_type": "stream",
     "text": [
      "Missing values in train dataset:\n",
      "ID            0\n",
      "age           0\n",
      "job           0\n",
      "marital       0\n",
      "education     0\n",
      "default       0\n",
      "balance       0\n",
      "housing       0\n",
      "loan          0\n",
      "contact       0\n",
      "day           0\n",
      "month         0\n",
      "duration      0\n",
      "campaign      0\n",
      "pdays         0\n",
      "previous      0\n",
      "poutcome      0\n",
      "subscribed    0\n",
      "dtype: int64\n",
      "\n",
      "Missing values in test dataset:\n",
      "ID           0\n",
      "age          0\n",
      "job          0\n",
      "marital      0\n",
      "education    0\n",
      "default      0\n",
      "balance      0\n",
      "housing      0\n",
      "loan         0\n",
      "contact      0\n",
      "day          0\n",
      "month        0\n",
      "duration     0\n",
      "campaign     0\n",
      "pdays        0\n",
      "previous     0\n",
      "poutcome     0\n",
      "dtype: int64\n"
     ]
    }
   ],
   "execution_count": 4
  },
  {
   "metadata": {
    "ExecuteTime": {
     "end_time": "2024-05-06T08:48:31.836597Z",
     "start_time": "2024-05-06T08:48:31.653357Z"
    }
   },
   "cell_type": "code",
   "source": [
    "from sklearn.preprocessing import LabelEncoder\n",
    "\n",
    "# Step 4: Data preprocessing\n",
    "\n",
    "# Check for missing values in train dataset\n",
    "print(\"Missing values in train dataset:\")\n",
    "print(train_data.isnull().sum())\n",
    "\n",
    "# Check for missing values in test dataset\n",
    "print(\"\\nMissing values in test dataset:\")\n",
    "print(test_data.isnull().sum())\n",
    "\n",
    "# Handle missing values (e.g., dropping rows)\n",
    "train_data.dropna(inplace=True)\n",
    "test_data.dropna(inplace=True)\n",
    "\n",
    "# Identify categorical columns\n",
    "categorical_columns = ['job', 'marital', 'education', 'default', 'housing', 'loan', 'contact', 'month', 'poutcome']\n",
    "\n",
    "# Combine train and test data\n",
    "combined_data = pd.concat([train_data, test_data], ignore_index=True)\n",
    "\n",
    "# Encode categorical columns in combined data\n",
    "label_encoder = LabelEncoder()\n",
    "for column in categorical_columns:\n",
    "    combined_data[column] = label_encoder.fit_transform(combined_data[column])\n",
    "\n",
    "# Split the data back into train and test\n",
    "train_data = combined_data.iloc[:len(train_data), :]\n",
    "test_data = combined_data.iloc[len(train_data):, :]\n",
    "\n",
    "# Step 5: Exploratory Data Analysis (EDA)\n",
    "\n",
    "import matplotlib.pyplot as plt\n",
    "import seaborn as sns\n",
    "\n",
    "# Analyze the distribution of the target variable\n",
    "train_data['subscribed'].value_counts().plot(kind='bar')\n",
    "plt.xlabel('Subscribed')\n",
    "plt.ylabel('Count')\n",
    "plt.title('Distribution of Subscribed')\n",
    "plt.show()\n",
    "\n",
    "# Correlation matrix\n",
    "corr_matrix = train_data.corr()\n",
    "sns.heatmap(corr_matrix, annot=True, cmap='coolwarm')\n",
    "plt.title('Correlation Matrix')\n",
    "plt.show()\n",
    "\n",
    "# Pairplot\n",
    "sns.pairplot(train_data, hue='subscribed')\n",
    "plt.show()"
   ],
   "id": "1c0eeeff91f6e230",
   "outputs": [
    {
     "name": "stdout",
     "output_type": "stream",
     "text": [
      "Missing values in train dataset:\n",
      "ID            0\n",
      "age           0\n",
      "job           0\n",
      "marital       0\n",
      "education     0\n",
      "default       0\n",
      "balance       0\n",
      "housing       0\n",
      "loan          0\n",
      "contact       0\n",
      "day           0\n",
      "month         0\n",
      "duration      0\n",
      "campaign      0\n",
      "pdays         0\n",
      "previous      0\n",
      "poutcome      0\n",
      "subscribed    0\n",
      "dtype: int64\n",
      "\n",
      "Missing values in test dataset:\n",
      "ID           0\n",
      "age          0\n",
      "job          0\n",
      "marital      0\n",
      "education    0\n",
      "default      0\n",
      "balance      0\n",
      "housing      0\n",
      "loan         0\n",
      "contact      0\n",
      "day          0\n",
      "month        0\n",
      "duration     0\n",
      "campaign     0\n",
      "pdays        0\n",
      "previous     0\n",
      "poutcome     0\n",
      "dtype: int64\n"
     ]
    },
    {
     "data": {
      "text/plain": [
       "<Figure size 640x480 with 1 Axes>"
      ],
      "image/png": "[encoded data removed]"
     },
     "metadata": {},
     "output_type": "display_data"
    },
    {
     "ename": "ValueError",
     "evalue": "could not convert string to float: 'no'",
     "output_type": "error",
     "traceback": [
      "\u001B[1;31m---------------------------------------------------------------------------\u001B[0m",
      "\u001B[1;31mValueError\u001B[0m                                Traceback (most recent call last)",
      "Cell \u001B[1;32mIn[11], line 45\u001B[0m\n\u001B[0;32m     42\u001B[0m plt\u001B[38;5;241m.\u001B[39mshow()\n\u001B[0;32m     44\u001B[0m \u001B[38;5;66;03m# Correlation matrix\u001B[39;00m\n\u001B[1;32m---> 45\u001B[0m corr_matrix \u001B[38;5;241m=\u001B[39m \u001B[43mtrain_data\u001B[49m\u001B[38;5;241;43m.\u001B[39;49m\u001B[43mcorr\u001B[49m\u001B[43m(\u001B[49m\u001B[43m)\u001B[49m\n\u001B[0;32m     46\u001B[0m sns\u001B[38;5;241m.\u001B[39mheatmap(corr_matrix, annot\u001B[38;5;241m=\u001B[39m\u001B[38;5;28;01mTrue\u001B[39;00m, cmap\u001B[38;5;241m=\u001B[39m\u001B[38;5;124m'\u001B[39m\u001B[38;5;124mcoolwarm\u001B[39m\u001B[38;5;124m'\u001B[39m)\n\u001B[0;32m     47\u001B[0m plt\u001B[38;5;241m.\u001B[39mtitle(\u001B[38;5;124m'\u001B[39m\u001B[38;5;124mCorrelation Matrix\u001B[39m\u001B[38;5;124m'\u001B[39m)\n",
      "File \u001B[1;32m~\\OneDrive\\Desktop\\python files\\Data science Project\\.venv\\Lib\\site-packages\\pandas\\core\\frame.py:11049\u001B[0m, in \u001B[0;36mDataFrame.corr\u001B[1;34m(self, method, min_periods, numeric_only)\u001B[0m\n\u001B[0;32m  11047\u001B[0m cols \u001B[38;5;241m=\u001B[39m data\u001B[38;5;241m.\u001B[39mcolumns\n\u001B[0;32m  11048\u001B[0m idx \u001B[38;5;241m=\u001B[39m cols\u001B[38;5;241m.\u001B[39mcopy()\n\u001B[1;32m> 11049\u001B[0m mat \u001B[38;5;241m=\u001B[39m \u001B[43mdata\u001B[49m\u001B[38;5;241;43m.\u001B[39;49m\u001B[43mto_numpy\u001B[49m\u001B[43m(\u001B[49m\u001B[43mdtype\u001B[49m\u001B[38;5;241;43m=\u001B[39;49m\u001B[38;5;28;43mfloat\u001B[39;49m\u001B[43m,\u001B[49m\u001B[43m \u001B[49m\u001B[43mna_value\u001B[49m\u001B[38;5;241;43m=\u001B[39;49m\u001B[43mnp\u001B[49m\u001B[38;5;241;43m.\u001B[39;49m\u001B[43mnan\u001B[49m\u001B[43m,\u001B[49m\u001B[43m \u001B[49m\u001B[43mcopy\u001B[49m\u001B[38;5;241;43m=\u001B[39;49m\u001B[38;5;28;43;01mFalse\u001B[39;49;00m\u001B[43m)\u001B[49m\n\u001B[0;32m  11051\u001B[0m \u001B[38;5;28;01mif\u001B[39;00m method \u001B[38;5;241m==\u001B[39m \u001B[38;5;124m\"\u001B[39m\u001B[38;5;124mpearson\u001B[39m\u001B[38;5;124m\"\u001B[39m:\n\u001B[0;32m  11052\u001B[0m     correl \u001B[38;5;241m=\u001B[39m libalgos\u001B[38;5;241m.\u001B[39mnancorr(mat, minp\u001B[38;5;241m=\u001B[39mmin_periods)\n",
      "File \u001B[1;32m~\\OneDrive\\Desktop\\python files\\Data science Project\\.venv\\Lib\\site-packages\\pandas\\core\\frame.py:1993\u001B[0m, in \u001B[0;36mDataFrame.to_numpy\u001B[1;34m(self, dtype, copy, na_value)\u001B[0m\n\u001B[0;32m   1991\u001B[0m \u001B[38;5;28;01mif\u001B[39;00m dtype \u001B[38;5;129;01mis\u001B[39;00m \u001B[38;5;129;01mnot\u001B[39;00m \u001B[38;5;28;01mNone\u001B[39;00m:\n\u001B[0;32m   1992\u001B[0m     dtype \u001B[38;5;241m=\u001B[39m np\u001B[38;5;241m.\u001B[39mdtype(dtype)\n\u001B[1;32m-> 1993\u001B[0m result \u001B[38;5;241m=\u001B[39m \u001B[38;5;28;43mself\u001B[39;49m\u001B[38;5;241;43m.\u001B[39;49m\u001B[43m_mgr\u001B[49m\u001B[38;5;241;43m.\u001B[39;49m\u001B[43mas_array\u001B[49m\u001B[43m(\u001B[49m\u001B[43mdtype\u001B[49m\u001B[38;5;241;43m=\u001B[39;49m\u001B[43mdtype\u001B[49m\u001B[43m,\u001B[49m\u001B[43m \u001B[49m\u001B[43mcopy\u001B[49m\u001B[38;5;241;43m=\u001B[39;49m\u001B[43mcopy\u001B[49m\u001B[43m,\u001B[49m\u001B[43m \u001B[49m\u001B[43mna_value\u001B[49m\u001B[38;5;241;43m=\u001B[39;49m\u001B[43mna_value\u001B[49m\u001B[43m)\u001B[49m\n\u001B[0;32m   1994\u001B[0m \u001B[38;5;28;01mif\u001B[39;00m result\u001B[38;5;241m.\u001B[39mdtype \u001B[38;5;129;01mis\u001B[39;00m \u001B[38;5;129;01mnot\u001B[39;00m dtype:\n\u001B[0;32m   1995\u001B[0m     result \u001B[38;5;241m=\u001B[39m np\u001B[38;5;241m.\u001B[39masarray(result, dtype\u001B[38;5;241m=\u001B[39mdtype)\n",
      "File \u001B[1;32m~\\OneDrive\\Desktop\\python files\\Data science Project\\.venv\\Lib\\site-packages\\pandas\\core\\internals\\managers.py:1694\u001B[0m, in \u001B[0;36mBlockManager.as_array\u001B[1;34m(self, dtype, copy, na_value)\u001B[0m\n\u001B[0;32m   1692\u001B[0m         arr\u001B[38;5;241m.\u001B[39mflags\u001B[38;5;241m.\u001B[39mwriteable \u001B[38;5;241m=\u001B[39m \u001B[38;5;28;01mFalse\u001B[39;00m\n\u001B[0;32m   1693\u001B[0m \u001B[38;5;28;01melse\u001B[39;00m:\n\u001B[1;32m-> 1694\u001B[0m     arr \u001B[38;5;241m=\u001B[39m \u001B[38;5;28;43mself\u001B[39;49m\u001B[38;5;241;43m.\u001B[39;49m\u001B[43m_interleave\u001B[49m\u001B[43m(\u001B[49m\u001B[43mdtype\u001B[49m\u001B[38;5;241;43m=\u001B[39;49m\u001B[43mdtype\u001B[49m\u001B[43m,\u001B[49m\u001B[43m \u001B[49m\u001B[43mna_value\u001B[49m\u001B[38;5;241;43m=\u001B[39;49m\u001B[43mna_value\u001B[49m\u001B[43m)\u001B[49m\n\u001B[0;32m   1695\u001B[0m     \u001B[38;5;66;03m# The underlying data was copied within _interleave, so no need\u001B[39;00m\n\u001B[0;32m   1696\u001B[0m     \u001B[38;5;66;03m# to further copy if copy=True or setting na_value\u001B[39;00m\n\u001B[0;32m   1698\u001B[0m \u001B[38;5;28;01mif\u001B[39;00m na_value \u001B[38;5;129;01mis\u001B[39;00m lib\u001B[38;5;241m.\u001B[39mno_default:\n",
      "File \u001B[1;32m~\\OneDrive\\Desktop\\python files\\Data science Project\\.venv\\Lib\\site-packages\\pandas\\core\\internals\\managers.py:1753\u001B[0m, in \u001B[0;36mBlockManager._interleave\u001B[1;34m(self, dtype, na_value)\u001B[0m\n\u001B[0;32m   1751\u001B[0m     \u001B[38;5;28;01melse\u001B[39;00m:\n\u001B[0;32m   1752\u001B[0m         arr \u001B[38;5;241m=\u001B[39m blk\u001B[38;5;241m.\u001B[39mget_values(dtype)\n\u001B[1;32m-> 1753\u001B[0m     \u001B[43mresult\u001B[49m\u001B[43m[\u001B[49m\u001B[43mrl\u001B[49m\u001B[38;5;241;43m.\u001B[39;49m\u001B[43mindexer\u001B[49m\u001B[43m]\u001B[49m \u001B[38;5;241m=\u001B[39m arr\n\u001B[0;32m   1754\u001B[0m     itemmask[rl\u001B[38;5;241m.\u001B[39mindexer] \u001B[38;5;241m=\u001B[39m \u001B[38;5;241m1\u001B[39m\n\u001B[0;32m   1756\u001B[0m \u001B[38;5;28;01mif\u001B[39;00m \u001B[38;5;129;01mnot\u001B[39;00m itemmask\u001B[38;5;241m.\u001B[39mall():\n",
      "\u001B[1;31mValueError\u001B[0m: could not convert string to float: 'no'"
     ]
    }
   ],
   "execution_count": 11
  },
  {
   "metadata": {
    "ExecuteTime": {
     "end_time": "2024-05-06T09:02:37.611143Z",
     "start_time": "2024-05-06T09:02:37.606777Z"
    }
   },
   "cell_type": "code",
   "source": [
    "print(\"Columns in train data:\", train_data.columns)\n",
    "print(\"Columns in test data:\", test_data.columns)"
   ],
   "id": "d7b6875fc9df95b3",
   "outputs": [
    {
     "name": "stdout",
     "output_type": "stream",
     "text": [
      "Columns in train data: Index(['age', 'job', 'marital', 'education', 'default', 'housing', 'loan',\n",
      "       'contact', 'month', 'duration_minutes', 'campaign', 'pdays', 'previous',\n",
      "       'poutcome', 'subscribed'],\n",
      "      dtype='object')\n",
      "Columns in test data: Index(['age', 'job', 'marital', 'education', 'default', 'housing', 'loan',\n",
      "       'contact', 'month', 'duration_minutes', 'campaign', 'pdays', 'previous',\n",
      "       'poutcome'],\n",
      "      dtype='object')\n"
     ]
    }
   ],
   "execution_count": 18
  },
  {
   "metadata": {
    "ExecuteTime": {
     "end_time": "2024-05-06T09:03:37.927224Z",
     "start_time": "2024-05-06T09:03:37.838712Z"
    }
   },
   "cell_type": "code",
   "source": [
    "import pandas as pd\n",
    "train_data = pd.read_csv(\"C:/Users/jerme/Downloads/Problem Statement (6) (1)/train.csv\")\n",
    "test_data = pd.read_csv(\"C:/Users/jerme/Downloads/Problem Statement (6) (1)/test.csv\")"
   ],
   "id": "f6fffea86a008338",
   "outputs": [],
   "execution_count": 19
  },
  {
   "metadata": {
    "ExecuteTime": {
     "end_time": "2024-05-06T09:39:41.478180Z",
     "start_time": "2024-05-06T09:39:41.444331Z"
    }
   },
   "cell_type": "code",
   "source": [
    "# Step 6: Feature Selection and Engineering\n",
    "\n",
    "# Create a new feature 'duration_minutes' by converting 'duration' from seconds to minutes\n",
    "train_data.loc['duration_minutes'] = train_data['duration'] / 60\n",
    "test_data.loc['duration_minutes'] = test_data['duration'] / 60\n",
    "\n",
    "# Select relevant features based on domain knowledge and EDA insights\n",
    "selected_features = ['age', 'job', 'marital', 'education', 'default', 'housing', 'loan', 'contact', 'month', 'duration', 'campaign', 'pdays', 'previous', 'poutcome', 'subscribed']\n",
    "\n",
    "# Update train and test data with selected features\n",
    "train_data = train_data[selected_features]\n",
    "test_data = test_data[selected_features[:-1]]  # Exclude the target variable 'subscribed' from test data"
   ],
   "id": "a40c223ba7265318",
   "outputs": [],
   "execution_count": 43
  },
  {
   "metadata": {
    "ExecuteTime": {
     "end_time": "2024-05-06T09:44:07.309838Z",
     "start_time": "2024-05-06T09:44:02.722171Z"
    }
   },
   "cell_type": "code",
   "source": [
    "import pandas as pd\n",
    "from sklearn.model_selection import train_test_split\n",
    "from sklearn.ensemble import RandomForestClassifier\n",
    "from sklearn.metrics import accuracy_score, confusion_matrix, classification_report\n",
    "from sklearn.preprocessing import LabelEncoder\n",
    "\n",
    "# Assuming 'train.csv' and 'test.csv' are in the same directory as your notebook/script\n",
    "train_data = pd.read_csv(\"C:/Users/jerme/Downloads/Problem Statement (6) (1)/train.csv\")\n",
    "test_data = pd.read_csv(\"C:/Users/jerme/Downloads/Problem Statement (6) (1)/test.csv\")\n",
    "\n",
    "# Encode categorical variables using LabelEncoder\n",
    "categorical_columns = ['job', 'marital', 'education', 'default', 'housing', 'loan', 'contact', 'month', 'poutcome']\n",
    "label_encoder = LabelEncoder()\n",
    "\n",
    "for column in categorical_columns:\n",
    "    # Combine to fit and then transform to avoid unseen labels in test data\n",
    "    combined = pd.concat([train_data[column], test_data[column]], axis=0)\n",
    "    label_encoder.fit(combined)\n",
    "    train_data[column] = label_encoder.transform(train_data[column])\n",
    "    test_data[column] = label_encoder.transform(test_data[column])\n",
    "\n",
    "# Split the train data into features and target variable\n",
    "X_train = train_data.drop(['subscribed'], axis=1)\n",
    "y_train = train_data['subscribed'].map({'yes': 1, 'no': 0})  # Convert target variable to numeric\n",
    "\n",
    "# Create a Random Forest classifier\n",
    "rf_classifier = RandomForestClassifier(n_estimators=100, random_state=42)\n",
    "\n",
    "# Train the model\n",
    "rf_classifier.fit(X_train, y_train)\n",
    "\n",
    "# Make predictions on the test set\n",
    "y_pred = rf_classifier.predict(test_data)\n",
    "\n",
    "# Save predictions to a CSV file\n",
    "submission = pd.DataFrame({'ID': test_data['ID'], 'subscribed': y_pred})\n",
    "submission['subscribed'] = submission['subscribed'].map({1: 'yes', 0: 'no'})  # Convert numeric predictions back to 'yes' and 'no'\n",
    "submission.to_csv('submission.csv', index=False)\n",
    "\n",
    "print(\"Predictions saved to submission.csv\")"
   ],
   "id": "372ce03778696b08",
   "outputs": [
    {
     "name": "stdout",
     "output_type": "stream",
     "text": [
      "Predictions saved to submission.csv\n"
     ]
    }
   ],
   "execution_count": 45
  },
  {
   "metadata": {
    "ExecuteTime": {
     "end_time": "2024-05-06T09:45:54.373926Z",
     "start_time": "2024-05-06T09:45:54.203646Z"
    }
   },
   "cell_type": "code",
   "source": [
    "import matplotlib.pyplot as plt\n",
    "\n",
    "plt.figure(figsize=(8, 6))\n",
    "plt.hist(train_data['age'], bins=20, edgecolor='black')\n",
    "plt.xlabel('Age')\n",
    "plt.ylabel('Count')\n",
    "plt.title('Distribution of Age')\n",
    "plt.show()"
   ],
   "id": "167c9df9d902affd",
   "outputs": [
    {
     "data": {
      "text/plain": [
       "<Figure size 800x600 with 1 Axes>"
      ],
      "image/png": "[encoded data removed]"
     },
     "metadata": {},
     "output_type": "display_data"
    }
   ],
   "execution_count": 46
  },
  {
   "metadata": {
    "ExecuteTime": {
     "end_time": "2024-05-06T09:46:04.528995Z",
     "start_time": "2024-05-06T09:46:04.338168Z"
    }
   },
   "cell_type": "code",
   "source": [
    "import seaborn as sns\n",
    "\n",
    "plt.figure(figsize=(10, 6))\n",
    "sns.countplot(x='education', data=train_data)\n",
    "plt.xlabel('Education')\n",
    "plt.ylabel('Count')\n",
    "plt.title('Distribution of Education')\n",
    "plt.xticks(rotation=45)\n",
    "plt.show()"
   ],
   "id": "3003da2f3a80eadd",
   "outputs": [
    {
     "data": {
      "text/plain": [
       "<Figure size 1000x600 with 1 Axes>"
      ],
      "image/png": "[encoded data removed]"
     },
     "metadata": {},
     "output_type": "display_data"
    }
   ],
   "execution_count": 47
  },
  {
   "metadata": {},
   "cell_type": "code",
   "outputs": [],
   "execution_count": null,
   "source": "",
   "id": "60c01fb63e5ed684"
  }
 ],
 "metadata": {
  "kernelspec": {
   "display_name": "Python 3",
   "language": "python",
   "name": "python3"
  },
  "language_info": {
   "codemirror_mode": {
    "name": "ipython",
    "version": 2
   },
   "file_extension": ".py",
   "mimetype": "text/x-python",
   "name": "python",
   "nbconvert_exporter": "python",
   "pygments_lexer": "ipython2",
   "version": "2.7.6"
  }
 },
 "nbformat": 4,
 "nbformat_minor": 5
}
